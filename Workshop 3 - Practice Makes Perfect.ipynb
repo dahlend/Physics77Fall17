{
 "cells": [
  {
   "cell_type": "markdown",
   "metadata": {},
   "source": [
    "# Workshop 3 - Practice Makes Perfect\n",
    "### There is a sign-in sheet, sign in or you wont get credit for attendance today!\n",
    "    \n",
    "- **Today**:  \n",
    "    Today is about practicing what we were introduced to last friday.\n",
    "    First I will review what we did, then talk a little about whitespace, and packages.\n",
    "    \n",
    "    - [Github Repo for Workshops](https://github.com/dahlend/Physics77Fall17) - Where you can download the notebooks used in this class - https://github.com/dahlend/Physics77Fall17  \n",
    "\n",
    "---\n",
    "### Goals for Today:\n",
    "You can download todays notebook from   github.com/dahlend/Physics77Fall17  \n",
    "- [0-Review](#0---Review)\n",
    "- [1-Whitespace](#1---Whitespace)\n",
    "- [2-Packages!](#2---Packages-&#40;AKA-Libraries,-Modules,-etc.&#41;)\n",
    "- [3-Problems](#3---Problems)\n",
    "    - [Problem 0](#Problem-0)\n",
    "    - [Problem 1](#Problem-1)\n",
    "    - [Problem 2](#Problem-2)\n",
    "    - [Problem 3](#Problem-3)\n",
    "    - [Problem 4](#Problem-4)\n",
    "    \n",
    "    "
   ]
  },
  {
   "cell_type": "markdown",
   "metadata": {},
   "source": [
    "## 0 - Review\n",
    "\n",
    "#### Reminder cheat sheet:\n",
    "Types of Variables (not complete list)\n",
    "\n",
    "|Type    | Name           | Example |  \n",
    "| -----  | -------------- | -------:|  \n",
    "|int()     | Integer        | 1337    | \n",
    "|float()   | decimal number | -2345.12|      \n",
    "|complex() | complex number | 7-1j    | \n",
    "|string()  | text           | \"Hello World\"| \n",
    "|list()    | list of things| ['c', 1, 3, 1j]|\n",
    "|bool()    | boolean (True or False)| True |\n",
    "\n",
    "Comparing things  \n",
    "\n",
    "|Operator| Name|\n",
    "|:------:| ----|\n",
    "| >     | greater than|\n",
    "| <     | less than|\n",
    "| ==    | equal|\n",
    "| >=    | greater than or equal|\n",
    "| <=    | less than or equal|\n",
    "| !=    | not equal | \n",
    "\n",
    "\n",
    "#### If Statements\n",
    "\n",
    "    if (some condition):  \n",
    "        if the condition is true, run code which is indented here\n",
    "    else:  \n",
    "        run this code if the condition is not met\n",
    "        \n",
    "#### For Loops\n",
    "    some_list = [1, 2, 'text', -51.2]\n",
    "    for x in some_list:\n",
    "        print(x)\n",
    "        if type(x) == int:\n",
    "            print(\"x is an integer!\")\n",
    "            \n",
    "## 1 - Whitespace   \n",
    "Whitespace is a name for the space character '&nbsp;&nbsp;' or a tab, which is written '\\t'.  Whitespace is very important in python (This is not always true with other languages), it is used to signify heirarchy.\n",
    "    \n",
    "What does that mean?  Lets say we have an 'if' statement:\n",
    "    \n",
    "    if 6 < 5:\n",
    "        print(\"Hi im filler text\")\n",
    "        print(\"see any good movies lately?\")\n",
    "        print(\"ok, 6 is less than 5. That's not true!\")\n",
    "    print(\"If statement is over\")\n",
    "            \n",
    "Whitespace is how you tell python what lines of code are associated with the if statement, so in this case we should see only the output:\n",
    "\n",
    "    \"If statement is over\"\n",
    "\n",
    "Python treats all code which is at the same number of spaces as being in the same sort of 'block', so above, the 3 print lines 'inside' the if statement will be run when the statement is true.\n",
    "\n",
    "Having to add space before lines like this happens any time you have a line of code that ends with a ':'\n",
    "\n",
    "Examples of this are:\n",
    "    # If statements\n",
    "    if True:\n",
    "        print(\"Doing stuff\")\n",
    "    else:\n",
    "        print(\"Doing other stuff\")\n",
    "\n",
    "    # For loops\n",
    "    for x in some_list:\n",
    "        print('x is equal to ', x)\n",
    "        print('x + 5 = ', x + 5)\n",
    "        \n",
    "    # Defining your own function\n",
    "    def my_function(x):\n",
    "        print(\"my_function was given the variable x=\", x)\n",
    "        return x\n",
    "\n",
    "When you combine multiples of these together, you have to keep indenting!\n",
    "\n",
    "    x = 6\n",
    "    for y in range(10):\n",
    "        print(\"y = \", y)  # This will run for every y in [0,...,9]\n",
    "        if x > y:\n",
    "            print(x)    # this only runs if x > y, for every y in [0,...,9]\n",
    "        else:\n",
    "            print(\"y is bigger than x!\")\n"
   ]
  },
  {
   "cell_type": "markdown",
   "metadata": {},
   "source": [
    "### 2 - Packages (AKA Libraries, Modules, etc.)\n",
    "\n",
    "Python itself has a limited number of tools available to you. For example, lets say I want to know the result of some bessel function.  The average python user doesn't care about that, so its not included in base python.  But if you recall, on the first day I said, 'someone, somewhere, has done what I'm trying to do'.  What we can do is use their solution.\n",
    "\n",
    "Libraries, like their namesakes, are collections of information, in this case they generally contain functions and tools that other people have built and made available to the world.\n",
    "\n",
    "The main packages we will use in this class are:\n",
    "- Numpy (**Num**erical **Py**thon) - essential mathematical methods for number crunching\n",
    "- MatPlotLib - the standard plotting toolset used in python\n",
    "- Scipy (**Sci**entific **Py**thon) - advanced mathematical tools built on numpy\n",
    "\n",
    "Lets take a look at matplotlib's website\n",
    "https://matplotlib.org/\n",
    "\n",
    "All of these packages are EXTREMELY well documented, hopefully you will get comfortable looking at the documentation for these tools by the end of the semester."
   ]
  },
  {
   "cell_type": "markdown",
   "metadata": {},
   "source": [
    "### Example:"
   ]
  },
  {
   "cell_type": "code",
   "execution_count": 1,
   "metadata": {},
   "outputs": [
    {
     "data": {
      "image/png": "[encoded data removed]",
      "text/plain": [
       "<matplotlib.figure.Figure at 0x7fd798187c50>"
      ]
     },
     "metadata": {},
     "output_type": "display_data"
    }
   ],
   "source": [
    "import matplotlib.pyplot as plt\n",
    "import numpy as np\n",
    "\n",
    "\n",
    "# Base Python range() doesn't allow decimal numbers\n",
    "# numpy improved and made thier own:\n",
    "\n",
    "t = np.arange(0.0, 1., 0.01)\n",
    "y = t**3.\n",
    "plt.plot(100 * t, y)\n",
    "\n",
    "plt.xlabel('Time (% of semester)')\n",
    "plt.ylabel('Enjoyment of Fridays')\n",
    "plt.title('Happiness over Time')\n",
    "plt.show()"
   ]
  },
  {
   "cell_type": "markdown",
   "metadata": {},
   "source": [
    "### Breaking it down:\n",
    "\n",
    "I want access to numpy's functions, so I need to 'import' the package.\n",
    "But 'numpy' is anoying to type, so I'll name it np when I use it.\n",
    "\n",
    "    import numpy as np\n",
    "    \n",
    "This means all of numpy is available to me, but I have to tell python when I'm using it.\n",
    "\n",
    "    np.arange(0, 1, 0.01)\n",
    "    \n",
    "This says, there is a function called `arange()` inside numpy, so I'm telling python to use it.\n",
    "\n",
    "Periods here are used to signify something is INSIDE something else, IE:\n",
    "\n",
    "np.arange is saying look for a thing called 'arange' inside np (which is a shorthand for numpy)\n",
    "    "
   ]
  },
  {
   "cell_type": "markdown",
   "metadata": {},
   "source": [
    "##### Links to documentation for some functions used above:\n",
    "[np.arange](https://docs.scipy.org/doc/numpy/reference/generated/numpy.arange.html)  \n",
    "[plt.plot](https://matplotlib.org/api/pyplot_api.html#matplotlib.pyplot.plot)"
   ]
  },
  {
   "cell_type": "markdown",
   "metadata": {},
   "source": [
    "## 3 - Problems\n",
    "\n",
    "### Problem 0\n",
    "\n",
    "Plot a sin wave using np.sin(), the example above is a good starting point!\n",
    "\n",
    "**Hint:**\n",
    "np.sin can accept a list of numbers and returns the sin for each of the numbers as another list.\n"
   ]
  },
  {
   "cell_type": "code",
   "execution_count": 2,
   "metadata": {
    "collapsed": true
   },
   "outputs": [],
   "source": [
    "# Your Code Here\n",
    "\n"
   ]
  },
  {
   "cell_type": "markdown",
   "metadata": {},
   "source": [
    "### Problem 1\n",
    "\n",
    "We are going to plot a [sawtooth wave](https://en.wikipedia.org/wiki/Square_wave#/media/File:Waveforms.svg).  This is trickier, since there isn't a numpy function for it!\n",
    "\n",
    "You will have to construct a list of numbers which contains the correct y values.\n",
    "\n",
    "This list of values will have to be something like:  \n",
    "\n",
    "    y =  [0, 1, 2, 3, 4, 5, 0, 1, 2 ...]\n",
    "\n",
    "In this case, there we have the numbers from 0 to 5 being repeated over and over.\n",
    "\n",
    "**Goals for the sawtooth plot:**\n",
    "- go from 0 to **n**-1 - in the example above, n=6, where **n** is how many numbers are being repeated\n",
    "- have a total of **length** numbers in the list **y** \n",
    "\n",
    "**Steps to pull this off:**\n",
    "\n",
    "1) Start with an empty list, this can be done with **y** = [ ]  \n",
    "\n",
    "We will then loop **length** times, adding the right value to the end of the list y\n",
    "\n",
    "2) Make a for loop going from 0 to **length**, and call the iteration value **i**  \n",
    "3) Now we have to add the correct value to the end of the list **y**, for the first **n** steps of the loop this is easy, we just are adding **i**.\n",
    "\n",
    "Thinking this through:  \n",
    "i = 0, we add 0 to the end of the list  \n",
    "i = 1, we add 1 to the end of the list  \n",
    "...   \n",
    "i = n, we add 0 to the end of the list  \n",
    "i = n + 1, we add 1 to the end of the list  \n",
    "i = n + 2, we add 2 to the end of the list  \n",
    "...   \n",
    "i = 2\\*n, we add 0 to the end of the list  \n",
    "i = 2\\*n+1, we add 1 to the end of the list  \n",
    "\n",
    "\n",
    "**Hint**  \n",
    "Remember the % operator from last week?  \n",
    "5 % 2 = 1  ( the remainder after division is 1)\n",
    "\n",
    "(3\\*n) % n = 0 $\\qquad$     $\\frac{3n}{n}$ is 3 remainder 0  \n",
    "(3\\*n + 1) % n = 1 $\\qquad$    $\\frac{3n+1}{n}$  is 3 remainder 1  \n",
    "\n",
    "4) Once we know the correct value from (3), we can add it to the list y with  \n",
    "\n",
    "    y.append(value_from_3)\n",
    "    \n",
    "5) Plot it!\n",
    "    \n",
    "Lists can have values \"appended\" to them, in other words you can add more things to the list you have already made."
   ]
  },
  {
   "cell_type": "code",
   "execution_count": 3,
   "metadata": {
    "collapsed": true
   },
   "outputs": [],
   "source": [
    "n = 20\n",
    "length = 100\n",
    "\n",
    "# Your code here\n",
    "\n"
   ]
  },
  {
   "cell_type": "markdown",
   "metadata": {},
   "source": [
    "### Problem 2\n",
    "Fun with lists!\n",
    "\n",
    "Lists can do all sorts of things, for example, we can repeat entries of a list many times:"
   ]
  },
  {
   "cell_type": "code",
   "execution_count": 4,
   "metadata": {},
   "outputs": [
    {
     "data": {
      "text/plain": [
       "['hello', 'hello', 'hello', 'hello', 'hello']"
      ]
     },
     "execution_count": 4,
     "metadata": {},
     "output_type": "execute_result"
    }
   ],
   "source": [
    "list_of_single_thing = ['hello']\n",
    "5 * list_of_single_thing"
   ]
  },
  {
   "cell_type": "code",
   "execution_count": 5,
   "metadata": {},
   "outputs": [
    {
     "data": {
      "text/plain": [
       "[0, 1, 2, 3, 4, 5, 0, 1, 2, 3, 4, 5, 0, 1, 2, 3, 4, 5, 0, 1, 2, 3, 4, 5]"
      ]
     },
     "execution_count": 5,
     "metadata": {},
     "output_type": "execute_result"
    }
   ],
   "source": [
    "# Look familiar?\n",
    "4 * [0, 1, 2, 3, 4, 5]"
   ]
  },
  {
   "cell_type": "markdown",
   "metadata": {},
   "source": [
    "Now redo problem 1 but using this, to get this to work you will have to build a list of the correct length.\n",
    "\n",
    "`range()` isn't actually a list, but you can turn it into one!  \n",
    "\n",
    "    list(range())\n",
    "    \n",
    "There are many ways to achieve the same goal when programming, some take less effort than others."
   ]
  },
  {
   "cell_type": "code",
   "execution_count": 6,
   "metadata": {
    "collapsed": true
   },
   "outputs": [],
   "source": [
    "n = 20\n",
    "length = 100\n",
    "\n",
    "# Your code here\n",
    "\n"
   ]
  },
  {
   "cell_type": "markdown",
   "metadata": {},
   "source": [
    "### Problem 3\n",
    "\n",
    "Now we will play with another aspect of lists, indexing.\n",
    "\n",
    "Given a list of numbers **x**, set every 5th number to 2.\n",
    "\n",
    "In order to do this, we need to have a way of accessing an element of the list.\n",
    "\n",
    "x[0] is the first element of the list  \n",
    "x[1] is the second  \n",
    "x[2] is the third  \n",
    "...  \n",
    "x[n] is the n+1 th  \n",
    "\n",
    "this is called 0-indexing, because we started counting at 0 (if you were wondering why i always start counting from 0 in this class, this is why)  \n",
    "\n",
    "We can set a value of a list to something like so:\n",
    "\n",
    "    x[7] = 2\n",
    "\n",
    "now the 8th element of the list x is 2.\n",
    "\n",
    "So to solve this problem, I'm providing you a list x, containing 100 zeros.\n",
    "\n",
    "Set every 5th to a 2, and plot the result.\n",
    "\n",
    "**Steps:**  \n",
    "1) Make a for loop going from 0 to 100 in steps of 5\n",
    "\n",
    "**hint**\n",
    "    range(0, 100, 5)\n",
    "\n",
    "2) for each step in the for loop set the x[i] number to 2\n",
    "\n",
    "3) plot the result"
   ]
  },
  {
   "cell_type": "code",
   "execution_count": 7,
   "metadata": {
    "collapsed": true
   },
   "outputs": [],
   "source": [
    "# Here is a list of 100 zeros\n",
    "x = 100*[0]"
   ]
  },
  {
   "cell_type": "markdown",
   "metadata": {},
   "source": [
    "### Problem 4\n",
    "\n",
    "Tell me the average value, and standard deviation, of a list of numbers I provide:\n",
    "\n",
    "numpy has a function for this, google is your friend."
   ]
  },
  {
   "cell_type": "code",
   "execution_count": 8,
   "metadata": {
    "collapsed": true
   },
   "outputs": [],
   "source": [
    "x = np.log(np.arange(1, 100) ** 3)\n",
    "\n",
    "# Your code here"
   ]
  }
 ],
 "metadata": {
  "kernelspec": {
   "display_name": "Python 2",
   "language": "python",
   "name": "python2"
  },
  "language_info": {
   "codemirror_mode": {
    "name": "ipython",
    "version": 2
   },
   "file_extension": ".py",
   "mimetype": "text/x-python",
   "name": "python",
   "nbconvert_exporter": "python",
   "pygments_lexer": "ipython2",
   "version": "2.7.13"
  }
 },
 "nbformat": 4,
 "nbformat_minor": 2
}
