{
 "cells": [
  {
   "cell_type": "markdown",
   "metadata": {},
   "source": [
    "# Workshop 2 - Core Python Concepts\n",
    "### There is a sign-in sheet, sign in or you wont get credit for attendance today!\n",
    "    \n",
    "- **Today**:  \n",
    "    Today we will take our first steps in programming in python. We will only be using 'core' python functions. Todays workshop is focused on the basics of programming.  \n",
    "    The next several fridays will be more like Labs, to get credit for the day you have to show that you have done all of the problems in todays workshop notebook.  I will briefly go over the pieces of this workshop at the beginning of class. Working together is encouraged, and don't be afraid to ask me questions. \n",
    "    \n",
    "    - [Github Repo for Workshops](https://github.com/dahlend/Physics77Fall17) - Where you can download the notebooks used in this class - https://github.com/dahlend/Physics77Fall17  \n",
    "\n",
    "---\n",
    "### Goals for Today:\n",
    "    0) You can download todays notebook from   github.com/dahlend/Physics77Fall17\n",
    "    1) What is a function\n",
    "    2) Take input from a command line\n",
    "        - *Problem 0*\n",
    "        - *Problem 1*\n",
    "    3) Conditional Statements\n",
    "    4) Loops\n",
    "    5) Create your own function\n",
    "    6) Combine these together\n",
    "    "
   ]
  },
  {
   "cell_type": "markdown",
   "metadata": {},
   "source": [
    "### 1) Functions"
   ]
  },
  {
   "cell_type": "code",
   "execution_count": 1,
   "metadata": {
    "collapsed": false
   },
   "outputs": [
    {
     "data": {
      "text/plain": [
       "10"
      ]
     },
     "execution_count": 1,
     "metadata": {},
     "output_type": "execute_result"
    }
   ],
   "source": [
    "# A lot of programming is based on the concept of a function\n",
    "# a function in math is written like:\n",
    "\n",
    "# y = f(x)\n",
    "\n",
    "# where if I pass a value x to f, f(x) returns the value y\n",
    "# Similarly in python this is true:\n",
    "\n",
    "# I'll define an x in this case to be a list of numbers\n",
    "x = [1, 2, 3, 4]\n",
    "\n",
    "# now I can sum them, where sum(x) is a function which accepts x as an input\n",
    "sum(x) # 1 + 2 + 3 + 4 = 10"
   ]
  },
  {
   "cell_type": "markdown",
   "metadata": {},
   "source": [
    "### 2) Input from command line"
   ]
  },
  {
   "cell_type": "code",
   "execution_count": 2,
   "metadata": {
    "collapsed": false
   },
   "outputs": [
    {
     "name": "stdout",
     "output_type": "stream",
     "text": [
      "Heres an example of input, enter a number: 512\n",
      "You Entered:  512\n"
     ]
    }
   ],
   "source": [
    "# There are several ways to bring data into python, today we will use 'input'\n",
    "\n",
    "# This line of code takes input from the user, and sets a variable \n",
    "# to be the value which was entered.\n",
    "# In this case we enter a number and the variable \"num_from_input\" will be that value\n",
    "\n",
    "num_from_input = input(\"Heres an example of input, enter a number: \")\n",
    "\n",
    "# We can print that value back out to the user to show that it saved:\n",
    "print(\"You Entered: \", num_from_input)\n",
    "\n",
    "# Try it out, importantly try entering something which is NOT a number"
   ]
  },
  {
   "cell_type": "markdown",
   "metadata": {},
   "source": [
    "#### What Happened?\n",
    "\n",
    "After entering something which is not a number, what happened?  \n",
    "\n",
    "But the input line said to enter a number, and it didn't say an error when you ran it.  \n",
    "In general you can't trust people to put in the correct thing, so you need to **Check it!**\n",
    "\n",
    "The technical name for this is input \"sanitization\", but really it comes down to checking if the input is what you expect.\n",
    "\n",
    "An simple way around this is to ENFORCE the type you expect.\n",
    "\n",
    "In this case we want an integer."
   ]
  },
  {
   "cell_type": "code",
   "execution_count": 3,
   "metadata": {
    "collapsed": false
   },
   "outputs": [
    {
     "name": "stdout",
     "output_type": "stream",
     "text": [
      "Heres an example of input, enter a number: Waffles\n"
     ]
    },
    {
     "ename": "ValueError",
     "evalue": "invalid literal for int() with base 10: 'Waffles'",
     "output_type": "error",
     "traceback": [
      "\u001b[0;31m---------------------------------------------------------------------------\u001b[0m",
      "\u001b[0;31mValueError\u001b[0m                                Traceback (most recent call last)",
      "\u001b[0;32m<ipython-input-3-8abcaad10554>\u001b[0m in \u001b[0;36m<module>\u001b[0;34m()\u001b[0m\n\u001b[1;32m      1\u001b[0m \u001b[1;31m# This line is the same as above, but I included int(), int is a function that makes\u001b[0m\u001b[1;33m\u001b[0m\u001b[1;33m\u001b[0m\u001b[0m\n\u001b[1;32m      2\u001b[0m \u001b[1;31m# whatever is passed to it into an Integer, and if it can't do it, it raises an error\u001b[0m\u001b[1;33m\u001b[0m\u001b[1;33m\u001b[0m\u001b[0m\n\u001b[0;32m----> 3\u001b[0;31m \u001b[0mnum_from_input\u001b[0m \u001b[1;33m=\u001b[0m \u001b[0mint\u001b[0m\u001b[1;33m(\u001b[0m\u001b[0minput\u001b[0m\u001b[1;33m(\u001b[0m\u001b[1;34m\"Heres an example of input, enter a number: \"\u001b[0m\u001b[1;33m)\u001b[0m\u001b[1;33m)\u001b[0m\u001b[1;33m\u001b[0m\u001b[0m\n\u001b[0m\u001b[1;32m      4\u001b[0m \u001b[1;33m\u001b[0m\u001b[0m\n\u001b[1;32m      5\u001b[0m \u001b[0mprint\u001b[0m\u001b[1;33m(\u001b[0m\u001b[1;34m\"You Entered: \"\u001b[0m\u001b[1;33m,\u001b[0m \u001b[0mnum_from_input\u001b[0m\u001b[1;33m)\u001b[0m\u001b[1;33m\u001b[0m\u001b[0m\n",
      "\u001b[0;31mValueError\u001b[0m: invalid literal for int() with base 10: 'Waffles'"
     ]
    }
   ],
   "source": [
    "# This line is the same as above, but I included int(), int is a function that makes\n",
    "# whatever is passed to it into an Integer, and if it can't do it, it raises an error\n",
    "num_from_input = int(input(\"Heres an example of input, enter a number: \"))\n",
    "\n",
    "print(\"You Entered: \", num_from_input)"
   ]
  },
  {
   "cell_type": "markdown",
   "metadata": {},
   "source": [
    "### Types of input\n",
    "Python allows for many types of input, above we demonstrated integers (ints),\n",
    "Here is a partial list of allowed values:\n",
    "\n",
    "|Type    | Name           | Example |  \n",
    "| -----  | -------------- | -------:|  \n",
    "|int()     | Integer        | 1337    | \n",
    "|float()   | decimal number | -2345.12|      \n",
    "|complex() | complex number | 7-1j    | \n",
    "|string()  | text           | \"Hello World\"| \n",
    "|list()    | list of things| ['c', 1, 3, 1j]|\n",
    "|bool()    | boolean (True or False)| True |\n"
   ]
  },
  {
   "cell_type": "markdown",
   "metadata": {},
   "source": [
    "### Problem 0:\n",
    "\n",
    "Write some code which takes 2 inputs from the user, puts the data into 2 variables, a, b, and multiplies the variables together.\n",
    "\n",
    "Make sure that if a user enters something which is NOT an integer it errors immediately!\n"
   ]
  },
  {
   "cell_type": "code",
   "execution_count": 4,
   "metadata": {
    "collapsed": false
   },
   "outputs": [
    {
     "name": "stdout",
     "output_type": "stream",
     "text": [
      "a * b = \n"
     ]
    }
   ],
   "source": [
    "# Your code goes here!\n",
    "\n",
    "print(\"a * b = \", )"
   ]
  },
  {
   "cell_type": "markdown",
   "metadata": {},
   "source": [
    "### Problem 1:\n",
    "\n",
    "Same as above, but take 2 inputs, a, and b, and return a^b.\n",
    "\n",
    "**I haven't told you how to do powers in python! Google!**\n",
    "\n",
    "Google suggestion:  \n",
    "\"python exponent\"  \n"
   ]
  },
  {
   "cell_type": "code",
   "execution_count": 5,
   "metadata": {
    "collapsed": false
   },
   "outputs": [
    {
     "name": "stdout",
     "output_type": "stream",
     "text": [
      "a^b = \n"
     ]
    }
   ],
   "source": [
    "# Your code goes here!\n",
    "\n",
    "print(\"a^b = \", )"
   ]
  },
  {
   "cell_type": "markdown",
   "metadata": {},
   "source": [
    "### 3) Conditional Statements\n",
    "\n",
    "A conditional statement is often called an if statement.  \n",
    "\n",
    "It looks something like this:\n",
    "\n",
    "    if (some condition):  \n",
    "        if the condition is true, run code which is indented here\n",
    "    else:  \n",
    "        run this code if the condition is not met\n",
    "        "
   ]
  },
  {
   "cell_type": "code",
   "execution_count": 6,
   "metadata": {
    "collapsed": false
   },
   "outputs": [
    {
     "name": "stdout",
     "output_type": "stream",
     "text": [
      "Enter a number, a=3.141592\n",
      "a = 3.141592   ,b = 4.0\n",
      "a <= b\n"
     ]
    }
   ],
   "source": [
    "# Set some variables\n",
    "a = float(input(\"Enter a number, a=\"))\n",
    "b = 4.0\n",
    "print(\"a =\", a, \"  ,b =\", b)\n",
    "\n",
    "\n",
    "# this line reads, if a is greater than b, print(\"a > b\")\n",
    "if a > b:\n",
    "    print(\"a > b\")\n",
    "else:  # if it is NOT the above condition, do this\n",
    "    print(\"a <= b\")\n",
    "    "
   ]
  },
  {
   "cell_type": "markdown",
   "metadata": {},
   "source": [
    "\n",
    "You can compare with the following operators:\n",
    "\n",
    "|Operator| Name|\n",
    "|:------:| ----|\n",
    "| >     | greater than|\n",
    "| <     | less than|\n",
    "| ==    | equal|\n",
    "| >=    | greater than or equal|\n",
    "| <=    | less than or equal|\n",
    "| !=    | not equal | "
   ]
  },
  {
   "cell_type": "markdown",
   "metadata": {},
   "source": [
    "### 4) Loops\n",
    "\n",
    "Lets say I want to print out all the numbers from 1 through 10, and 2x their value"
   ]
  },
  {
   "cell_type": "code",
   "execution_count": 7,
   "metadata": {
    "collapsed": false
   },
   "outputs": [
    {
     "data": {
      "text/plain": [
       "[1, 2, 3, 4, 5, 6, 7, 8, 9, 10]"
      ]
     },
     "execution_count": 7,
     "metadata": {},
     "output_type": "execute_result"
    }
   ],
   "source": [
    "n_1_to_10 = range(1, 11) # This makes a list of numbers from 1 to 10\n",
    "# range() doesn't include the last element, so no 11 in this case\n",
    "\n",
    "list(n_1_to_10)  # We see we a have a list of numbers from 1 to 10"
   ]
  },
  {
   "cell_type": "markdown",
   "metadata": {},
   "source": [
    "Great! Now we have a list of 1 to 10, but I need to multiply everything by 2.\n",
    "\n",
    "Unfortunately I can't just print `2*n_1_to_10`, but I CAN go through the list and  \n",
    "print 2\\*i for each number in the list"
   ]
  },
  {
   "cell_type": "code",
   "execution_count": 8,
   "metadata": {
    "collapsed": false
   },
   "outputs": [
    {
     "name": "stdout",
     "output_type": "stream",
     "text": [
      "i =  1\n",
      "2*i =  2\n",
      "i =  2\n",
      "2*i =  4\n",
      "i =  3\n",
      "2*i =  6\n",
      "i =  4\n",
      "2*i =  8\n",
      "i =  5\n",
      "2*i =  10\n",
      "i =  6\n",
      "2*i =  12\n",
      "i =  7\n",
      "2*i =  14\n",
      "i =  8\n",
      "2*i =  16\n",
      "i =  9\n",
      "2*i =  18\n",
      "i =  10\n",
      "2*i =  20\n"
     ]
    }
   ],
   "source": [
    "# So lets 'iterate' through the list\n",
    "\n",
    "# This is done with a 'for' loop\n",
    "# as in \"For each number i in the list of numbers [1, 2, ..., 10]: run this code\"\n",
    "for i in n_1_to_10:\n",
    "    print(\"i = \", i)\n",
    "    print(\"2*i = \", 2 * i)\n",
    "    \n",
    "# Code indented in the for loop repeats itself until it goes through all the numbers in the list"
   ]
  },
  {
   "cell_type": "markdown",
   "metadata": {},
   "source": [
    "### Combining Concepts!\n",
    "\n",
    "Lets go through the numbers 1 through 10, and identify when we have found the number 6.\n",
    "\n",
    "This can be done by combining the two things above."
   ]
  },
  {
   "cell_type": "code",
   "execution_count": 9,
   "metadata": {
    "collapsed": false
   },
   "outputs": [
    {
     "name": "stdout",
     "output_type": "stream",
     "text": [
      "i =  1 ,  booo not 6 :(\n",
      "i =  2 ,  booo not 6 :(\n",
      "i =  3 ,  booo not 6 :(\n",
      "i =  4 ,  booo not 6 :(\n",
      "i =  5 ,  booo not 6 :(\n",
      "i is 6!!! Woo!\n",
      "i =  7 ,  booo not 6 :(\n",
      "i =  8 ,  booo not 6 :(\n",
      "i =  9 ,  booo not 6 :(\n",
      "i =  10 ,  booo not 6 :(\n"
     ]
    }
   ],
   "source": [
    "for i in n_1_to_10:\n",
    "    if i == 6:\n",
    "        print(\"i is 6!!! Woo!\")\n",
    "    else:\n",
    "        print(\"i = \", i, \",  booo not 6 :(\")"
   ]
  },
  {
   "cell_type": "code",
   "execution_count": 10,
   "metadata": {
    "collapsed": false
   },
   "outputs": [
    {
     "name": "stdout",
     "output_type": "stream",
     "text": [
      "I is even, i = 2\n",
      "I is even, i = 4\n",
      "I is even, i = 6\n",
      "I is even, i = 8\n",
      "I is even, i = 10\n"
     ]
    }
   ],
   "source": [
    "for i in n_1_to_10:\n",
    "    if i % 2 == 0:\n",
    "        print(\"I is even, i =\", i)"
   ]
  },
  {
   "cell_type": "markdown",
   "metadata": {},
   "source": [
    "What is this % operator?  It's called Modulo, if you haven't seen it before:\n",
    "\n",
    "The modulo is the remainder after a division, equivalently there is another operator //  \n",
    "which returns the divisible portion of the numerator. Some examples might be more instructive:"
   ]
  },
  {
   "cell_type": "code",
   "execution_count": 11,
   "metadata": {
    "collapsed": false
   },
   "outputs": [
    {
     "name": "stdout",
     "output_type": "stream",
     "text": [
      "12 / 5 = 2 remainder 2\n",
      "15 / 4 = 3 remainder 3\n",
      "6 / 2 = 3 remainder 0   ,6 is divisible by 2. remainder = 0\n"
     ]
    }
   ],
   "source": [
    "# 12 / 5 = 2 remainder 2\n",
    "print(\"12 / 5 =\", 12 // 5, 'remainder', 12 % 5)\n",
    "\n",
    "# 15 / 4 = 3 remainder 3\n",
    "print(\"15 / 4 =\", 15 // 4, 'remainder', 15 % 4)\n",
    "\n",
    "# 6 / 2 = 3 remainder 0, NOTE: when the remainder is 0 then 6 is divisible by 2\n",
    "# This is what is used above to decide when numbers are even.\n",
    "print(\"6 / 2 =\", 6 // 2, 'remainder', 6 % 2, \"  ,6 is divisible by 2. remainder = 0\")"
   ]
  },
  {
   "cell_type": "markdown",
   "metadata": {},
   "source": [
    "Let's say I want to count how many numbers there are which are divisible by 7 below 100?"
   ]
  },
  {
   "cell_type": "code",
   "execution_count": 12,
   "metadata": {
    "collapsed": false
   },
   "outputs": [
    {
     "name": "stdout",
     "output_type": "stream",
     "text": [
      "7 is divisible by 7\n",
      "14 is divisible by 7\n",
      "21 is divisible by 7\n",
      "28 is divisible by 7\n",
      "35 is divisible by 7\n",
      "42 is divisible by 7\n",
      "49 is divisible by 7\n",
      "56 is divisible by 7\n",
      "63 is divisible by 7\n",
      "70 is divisible by 7\n",
      "77 is divisible by 7\n",
      "84 is divisible by 7\n",
      "91 is divisible by 7\n",
      "98 is divisible by 7\n",
      "There are 14 numbers below 100 which are divisible by 7.\n"
     ]
    }
   ],
   "source": [
    "# First lets make a variable which keeps track of the number\n",
    "# of numbers which are divisible by 7, at first we haven't\n",
    "# found any yet, so it is 0.\n",
    "n_div_7 = 0\n",
    "\n",
    "for i in range(1, 100):\n",
    "    # For each number from 1 to 100 we check\n",
    "    # to see if it is divisible by 7, if it is, we add 1 to our counter\n",
    "    \n",
    "    # is i divisble by 7?\n",
    "    if i % 7 == 0:\n",
    "        # above we saw that if i % 7 == 0, you know that i is divisible by 7\n",
    "        print(i, \"is divisible by 7\")\n",
    "        # so here the counter is set to the counter + 1\n",
    "        n_div_7 = n_div_7 + 1\n",
    "        \n",
    "print(\"There are\", n_div_7, \"numbers below 100 which are divisible by 7.\")"
   ]
  },
  {
   "cell_type": "markdown",
   "metadata": {},
   "source": [
    "### Problem 2 - \n",
    "\n",
    "How many numbers from 1 to 2000 are divisible by both 3, and 7?\n",
    "\n",
    "##### Helpful Hint:  \n",
    "\n",
    "`if a == 2 and b < 7.14:\n",
    "    print(\"a == 2 AND b < 7.14\")`"
   ]
  },
  {
   "cell_type": "markdown",
   "metadata": {},
   "source": [
    "### Problem 3 -\n",
    "\n",
    "For each number i, from 1 to 10000, tell me how many meet this condition:\n",
    "\n",
    "`10000 <  i^3. - 0.5*i^2.9999 - 0.5*i^3.0001 + 50*i < 14125`\n"
   ]
  },
  {
   "cell_type": "markdown",
   "metadata": {},
   "source": [
    "## 5) Defining your own function\n"
   ]
  },
  {
   "cell_type": "code",
   "execution_count": 10,
   "metadata": {
    "collapsed": false
   },
   "outputs": [
    {
     "name": "stdout",
     "output_type": "stream",
     "text": [
      "Lets look at math operators in python:\n",
      "X = 6 , Y = 7\n",
      "X * Y =  42\n",
      "X / Y =  0.8571428571428571\n",
      "X + Y =  13\n",
      "X - Y =  -1\n",
      "X // Y =  0\n",
      "X % Y =  6\n",
      "X to the power of Y you will have to look up!\n",
      "This function is going to return x+y\n"
     ]
    },
    {
     "data": {
      "text/plain": [
       "13"
      ]
     },
     "execution_count": 10,
     "metadata": {},
     "output_type": "execute_result"
    }
   ],
   "source": [
    "def my_func(x, y):\n",
    "    \"\"\"\n",
    "    This is a function definition in python, this allows you to define your own functions.\n",
    "    This function accepts these variables:\n",
    "        Accepts:\n",
    "            x - must be a number\n",
    "            y - must also be a number\n",
    "        Returns:\n",
    "            x + y\n",
    "    \"\"\"\n",
    "    print(\"Lets look at math operators in python:\")\n",
    "    print(\"X =\", x, \", Y =\", y)\n",
    "    print(\"X * Y = \", x * y)\n",
    "    print(\"X / Y = \", x / y)\n",
    "    print(\"X + Y = \", x + y)\n",
    "    print(\"X - Y = \", x - y)\n",
    "    print(\"X // Y = \", x // y)  # floor division\n",
    "    print(\"X % Y = \", x % y)  # Modulo\n",
    "    print(\"X to the power of Y you will have to look up!\")\n",
    "    \n",
    "    print(\"This function is going to return x+y\")    \n",
    "    return x + y\n",
    "\n",
    "\n",
    "# Now lets use the function we defined!\n",
    "my_func(x=6, y=7)"
   ]
  },
  {
   "cell_type": "code",
   "execution_count": 12,
   "metadata": {
    "collapsed": false
   },
   "outputs": [
    {
     "name": "stdout",
     "output_type": "stream",
     "text": [
      "Lets look at math operators in python:\n",
      "X = 2.75 , Y = 2\n",
      "X * Y =  5.5\n",
      "X / Y =  1.375\n",
      "X + Y =  4.75\n",
      "X - Y =  0.75\n",
      "X // Y =  1.0\n",
      "X % Y =  0.75\n",
      "X to the power of Y you will have to look up!\n",
      "This function is going to return x+y\n"
     ]
    },
    {
     "data": {
      "text/plain": [
       "4.75"
      ]
     },
     "execution_count": 12,
     "metadata": {},
     "output_type": "execute_result"
    }
   ],
   "source": [
    "my_func(2.75, 2)"
   ]
  },
  {
   "cell_type": "code",
   "execution_count": null,
   "metadata": {
    "collapsed": true
   },
   "outputs": [],
   "source": []
  }
 ],
 "metadata": {
  "kernelspec": {
   "display_name": "Python 3",
   "language": "python",
   "name": "python3"
  },
  "language_info": {
   "codemirror_mode": {
    "name": "ipython",
    "version": 3
   },
   "file_extension": ".py",
   "mimetype": "text/x-python",
   "name": "python",
   "nbconvert_exporter": "python",
   "pygments_lexer": "ipython3",
   "version": "3.6.0"
  }
 },
 "nbformat": 4,
 "nbformat_minor": 2
}
