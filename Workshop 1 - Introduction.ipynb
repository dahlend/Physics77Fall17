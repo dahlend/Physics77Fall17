{
 "cells": [
  {
   "cell_type": "markdown",
   "metadata": {},
   "source": [
    "# Welcome to Phys 77\n",
    "---\n",
    "### Who am I?\n",
    "Dar, PhD student in Physics, working in experimental quantum computing, [Quantum Nanoelectronic Lab](http://qnl.berkeley.edu).\n",
    "\n",
    "[DarDahlen@berkeley.edu](DarDahlen@berkeley.edu)  \n",
    "150 LeConte - W 4-6pm\n",
    "\n",
    "### Dar's practical rules of programming:\n",
    " 0) If you don't understand **why** it's working, you aren't done yet  \n",
    " 1) Google is your friend   \n",
    " 2) Someone, somewhere, has already tried to do what I'm trying to do  \n",
    " 3) Guess and check works suprisingly well  \n",
    " 4) RTFM\n",
    "\n",
    "----\n",
    "### What are we doing?\n",
    "- **The Course - 10k Foot View**:  \n",
    "    What is not clear here will be explained in more detail on Monday.\n",
    "    - Lectures - Mondays\n",
    "    - Workshops - Fridays (20% of your grade, **required attendence**)\n",
    "    - Homework (mostly python based, 40% of grade)\n",
    "    - Final Project (40% of grade)\n",
    "    \n",
    "    \n",
    "- **Workshops Specifically - Friday afternoons**:   \n",
    "    I am in charge of workshops, these will mostly be [pair programming](https://en.wikipedia.org/wiki/Pair_programming), working on homework or workshop specific assignments.  When a programming homework assignment is given out, I will randomly assign you into pairs (using python), each homework will be treated as a pair assignment, where you will each recieve the same grade. During workshops when there are homework assignments, we will be practicing pair programming, where one person \"drives\" and the other person gives advice.\n",
    "    \n",
    "    \n",
    "- **Today**:  \n",
    "    Today will be largely an introduction, explanation, and installation of Python.\n",
    "    - There is a sign-in sheet, sign in or you wont get credit for attendance today!\n",
    "    - [Github Repo for Workshops](https://github.com/dahlend/Physics77Fall17) - Where you can download the notebooks used in this class - https://github.com/dahlend/Physics77Fall17\n",
    "    - [Anaconda Python](https://www.continuum.io/downloads) - Probably the most common way of installing python. - https://www.continuum.io/downloads\n",
    "\n",
    "---\n",
    "### Goals for Today:\n",
    "    0) You can download this notebook from   github.com/dahlend/Physics77Fall17\n",
    "    1) Install Python 3.6 (via Anaconda)\n",
    "    2) Get Jupyter Running\n",
    "    3) Write a simple program\n",
    "    4) Bonus Problems at the bottom if you get bored\n",
    "    \n"
   ]
  },
  {
   "cell_type": "markdown",
   "metadata": {},
   "source": [
    "## Step 0 - Open this notebook\n",
    "\n",
    "#### github.com/dahlend/Physics77Fall17\n",
    "\n",
    "Click on \"Workshop 1 - Introduction\""
   ]
  },
  {
   "cell_type": "markdown",
   "metadata": {},
   "source": [
    "## Step 1 - What is Anaconda?\n",
    "\n",
    "Anaconda is a pre-packaged python that includes effectively all the tools we will use in this course. In addition, it allows us to install librarys we are missing in a very simple manner.\n",
    "\n",
    "Step 1 of today will be downloading and installing Anaconda.\n",
    "\n",
    "https://www.continuum.io/downloads\n",
    "\n",
    "Download and install Python 3.6 appropriate for your OS.\n",
    "\n",
    "\n"
   ]
  },
  {
   "cell_type": "markdown",
   "metadata": {},
   "source": [
    "## Step 2 - Run Jupyter\n",
    "\n",
    "Jupyter is a an interface for making it easy to run Python and see your result. This 'website' is actually a jupyter notebook.\n",
    "\n",
    "I'll show you what you can do:"
   ]
  },
  {
   "cell_type": "code",
   "execution_count": 1,
   "metadata": {
    "collapsed": false
   },
   "outputs": [
    {
     "name": "stdout",
     "output_type": "stream",
     "text": [
      "[ 0.          0.33069396  0.66138793  0.99208189  1.32277585  1.65346982\n",
      "  1.98416378  2.31485774  2.64555171  2.97624567  3.30693964  3.6376336\n",
      "  3.96832756  4.29902153  4.62971549  4.96040945  5.29110342  5.62179738\n",
      "  5.95249134  6.28318531]\n"
     ]
    },
    {
     "data": {
      "image/png": "[encoded data removed]",
      "text/plain": [
       "<matplotlib.figure.Figure at 0x16843c3ed68>"
      ]
     },
     "metadata": {},
     "output_type": "display_data"
    }
   ],
   "source": [
    "import matplotlib.pyplot as plt\n",
    "import numpy as np\n",
    "%matplotlib inline\n",
    "\n",
    "# Defines an x vector, going from 0 to 2 pi in 20 steps\n",
    "x = np.linspace(0, 2*np.pi, 20)\n",
    "\n",
    "plt.plot(x, np.sin(x), label='Sin') # Plot sin\n",
    "plt.plot(x, np.cos(x), 'o-', label='Cos') # Plot cos\n",
    "\n",
    "plt.legend() # add a legend to the plot\n",
    "\n",
    "print(x) # print the vector we made"
   ]
  },
  {
   "cell_type": "markdown",
   "metadata": {},
   "source": [
    "Now that you have anaconda installed, we will open a jupyter notebook.\n",
    "- if you are on mac/unix open \"terminal\"\n",
    "- If you are on windows open \"command prompt\"\n",
    "\n",
    "Then type in:  \n",
    "`jupyter notebook`"
   ]
  },
  {
   "cell_type": "markdown",
   "metadata": {},
   "source": [
    "## Step 3 - Run a simple program\n",
    "\n",
    "Take copy the code from above and run it, (shift + enter or ctrl + enter).\n",
    "\n",
    "Play around with it, delete a line, see what happens, programming is often a trial and error excercise.\n"
   ]
  },
  {
   "cell_type": "markdown",
   "metadata": {},
   "source": [
    "## Bonus Problems -\n",
    "Days where we don't have assigned homework will often include a bonus problem. These problems will often be at or beyond the limits of what have currently been covered in class. Don't feel bad if you currently have *NO* idea how to do it, by the end of the semester you should have the tools needed to attempt them!\n",
    "\n",
    "### Bonus 0 - \n",
    "\n",
    "Plot an exponential decay of the form:\n",
    "\n",
    "$y = e^{-t}$  \n",
    "\n",
    "With t going from 0 to 5.  \n",
    "\n",
    "Label the x-axis and y-axis appropriately, and put a title on the plot.  \n",
    "\n",
    "You might have to do some googling for this, plotting tools we are using are called matplotlib.\n",
    "\n",
    "### Bonus 1\n",
    "\n",
    "If we list all the natural numbers below 10 that are multiples of 3 or 5, we get 3, 5, 6 and 9. The sum of these multiples is 23.\n",
    "\n",
    "Find the sum of all the multiples of 3 or 5 below 1000."
   ]
  },
  {
   "cell_type": "code",
   "execution_count": null,
   "metadata": {
    "collapsed": true
   },
   "outputs": [],
   "source": []
  }
 ],
 "metadata": {
  "kernelspec": {
   "display_name": "Python 3",
   "language": "python",
   "name": "python3"
  },
  "language_info": {
   "codemirror_mode": {
    "name": "ipython",
    "version": 3
   },
   "file_extension": ".py",
   "mimetype": "text/x-python",
   "name": "python",
   "nbconvert_exporter": "python",
   "pygments_lexer": "ipython3",
   "version": "3.6.0"
  }
 },
 "nbformat": 4,
 "nbformat_minor": 2
}
