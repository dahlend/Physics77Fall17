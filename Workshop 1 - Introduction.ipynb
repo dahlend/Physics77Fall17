{
 "cells": [
  {
   "cell_type": "markdown",
   "metadata": {},
   "source": [
    "## Welcome to Phys 77\n",
    "---\n",
    "### Who am I?\n",
    "Dar Dahlen, PhD student in Physics, working in experimental quantum computing.\n",
    "\n",
    "----\n",
    "### What are we doing?\n",
    "- The Course - 10k Foot View:\n",
    "    What is not clear here will be explained in more detail on Monday.\n",
    "    - Lectures and Workshops - Lectures are on Mondays, Workshops on fridays\n",
    "    - Homework (mostly python based)\n",
    "    - Final Project\n",
    "- Workshops Specifically - Friday afternoons:\n",
    "    I am in charge of workshops, these will mostly be [pair programming](https://en.wikipedia.org/wiki/Pair_programming) working on homework or workshop specific assignments.\n",
    "    \n",
    "- Today:\n",
    "    Today will be largely an introduction, explanation, and installation of Python.\n",
    "    - There is a sign-in sheet, sign in or you wont get credit for attendance today!\n",
    "    - [Github Repo for Workshops](https://github.com/dahlend/Physics77Fall17) - Where you can download the notebooks used in this class - https://github.com/dahlend/Physics77Fall17\n",
    "    - [Anaconda Python](https://www.continuum.io/downloads) - Probably the most common way of installing python. - https://www.continuum.io/downloads\n",
    "    \n",
    "### Goals for Today:\n",
    "    0) Download this \n",
    "    1) Install Python 3.6 (via Anaconda)\n",
    "    2) Get Jupyter Running\n",
    "    3) Write a simple program\n",
    "    4) Export your program and run pylint\n",
    "    \n"
   ]
  },
  {
   "cell_type": "markdown",
   "metadata": {},
   "source": [
    "## Step 1 - What is Anaconda?\n",
    "\n",
    "Anaconda is a pre-packaged version of python that includes effectively all the tools we will use in this course. In addition, it allows us to install tools we are missing in a very simple manner.\n",
    "\n",
    "Step 1 of today will be downloading and installing Anaconda.\n",
    "\n",
    "\n"
   ]
  }
 ],
 "metadata": {
  "kernelspec": {
   "display_name": "Python 3",
   "language": "python",
   "name": "python3"
  },
  "language_info": {
   "codemirror_mode": {
    "name": "ipython",
    "version": 3
   },
   "file_extension": ".py",
   "mimetype": "text/x-python",
   "name": "python",
   "nbconvert_exporter": "python",
   "pygments_lexer": "ipython3",
   "version": "3.6.1"
  }
 },
 "nbformat": 4,
 "nbformat_minor": 2
}
